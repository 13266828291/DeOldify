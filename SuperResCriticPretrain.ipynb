{
 "cells": [
  {
   "cell_type": "code",
   "execution_count": null,
   "metadata": {},
   "outputs": [],
   "source": [
    "%matplotlib inline\n",
    "%reload_ext autoreload\n",
    "%autoreload 2"
   ]
  },
  {
   "cell_type": "code",
   "execution_count": null,
   "metadata": {},
   "outputs": [],
   "source": [
    "import multiprocessing\n",
    "from torch import autograd\n",
    "from fastai.conv_learner import *\n",
    "from fastai.transforms import TfmType\n",
    "from fasterai.transforms import *\n",
    "from fasterai.images import *\n",
    "from fasterai.dataset import *\n",
    "from fasterai.visualize import *\n",
    "from fasterai.callbacks import *\n",
    "from fasterai.loss import *\n",
    "from fasterai.modules import *\n",
    "from fasterai.training import *\n",
    "from fasterai.generators import *\n",
    "from fastai.torch_imports import *\n",
    "from pathlib import Path\n",
    "from itertools import repeat\n",
    "import random\n",
    "import tensorboardX\n",
    "torch.cuda.set_device(3)\n",
    "plt.style.use('dark_background')\n",
    "torch.backends.cudnn.benchmark=True\n",
    "\n",
    "\n",
    "from shutil import copyfile\n",
    "from scipy import misc"
   ]
  },
  {
   "cell_type": "code",
   "execution_count": null,
   "metadata": {},
   "outputs": [],
   "source": [
    "IMAGENET = Path('data/imagenet/ILSVRC/Data/CLS-LOC/test')\n",
    "RESCLASS = Path('data/resclass')\n",
    "LOWRES_TRAIN = RESCLASS/'train/lowres'\n",
    "HIGHRES_TRAIN = RESCLASS/'train/highres'\n",
    "LOWRES_VALID = RESCLASS/'valid/lowres'\n",
    "HIGHRES_VALID = RESCLASS/'valid/highres'\n",
    "proj_id = 'ResCriticPre11'\n",
    "TENSORBOARD_PATH = Path('data/tensorboard/' + proj_id)\n",
    "\n",
    "dpath = IMAGENET.parent/(proj_id + '_crit_128.h5')"
   ]
  },
  {
   "cell_type": "markdown",
   "metadata": {},
   "source": [
    "files =list(IMAGENET.glob(\"*.*\"))\n",
    "numfiles = len(files)\n",
    "print(numfiles)\n",
    "numtrain = int(0.9 * numfiles)\n",
    "numvalid = numfiles - numtrain\n",
    "sizes=[64,96,128,160]\n",
    "\n",
    "train_files = files[:numtrain]\n",
    "valid_files = files[numtrain:]\n",
    "\n",
    "lres_train_files = train_files[:numtrain//2]\n",
    "hres_train_files = train_files[numtrain//2:]\n",
    "\n",
    "lres_valid_files = train_files[:numvalid//2]\n",
    "hres_valid_files = train_files[numvalid//2:]\n",
    "\n",
    "for file in lres_train_files:\n",
    "    image = open_image(str(file))\n",
    "    shrunk=scale_min(image,sizes[random.randint(0, len(sizes)-1)])\n",
    "    upsized=scale_min(shrunk, 192)\n",
    "    result_path = LOWRES_TRAIN/file.name\n",
    "    misc.imsave(result_path, np.clip(upsized,0,1))\n",
    "    \n",
    "for file in lres_valid_files:\n",
    "    image = open_image(str(file))\n",
    "    shrunk=scale_min(image,sizes[random.randint(0, len(sizes)-1)])\n",
    "    upsized=scale_min(shrunk, 192)\n",
    "    result_path = LOWRES_VALID/file.name\n",
    "    misc.imsave(result_path, np.clip(upsized,0,1))\n",
    "    \n",
    "for file in hres_train_files:\n",
    "    image = open_image(str(file))\n",
    "    resized=scale_min(image, 192)\n",
    "    result_path = HIGHRES_TRAIN/file.name\n",
    "    misc.imsave(result_path, np.clip(resized,0,1))\n",
    "    \n",
    "    \n",
    "for file in hres_valid_files:\n",
    "    image = open_image(str(file))\n",
    "    resized=scale_min(image, 192)\n",
    "    result_path = HIGHRES_VALID/file.name\n",
    "    misc.imsave(result_path, np.clip(resized,0,1))\n",
    "    \n",
    "    "
   ]
  },
  {
   "cell_type": "code",
   "execution_count": null,
   "metadata": {},
   "outputs": [],
   "source": [
    "lr=1e-3\n",
    "lrs = np.array([lr,lr,lr])\n",
    "\n",
    "sz=128\n",
    "keep_pct=1.0\n",
    "bs=32\n",
    "torch.backends.cudnn.benchmark=True"
   ]
  },
  {
   "cell_type": "markdown",
   "metadata": {},
   "source": [
    "## Training"
   ]
  },
  {
   "cell_type": "code",
   "execution_count": null,
   "metadata": {},
   "outputs": [],
   "source": [
    "def create_model(pretrained:bool=False):\n",
    "    return DCCriticDense(ni=3, nf=128)"
   ]
  },
  {
   "cell_type": "code",
   "execution_count": null,
   "metadata": {},
   "outputs": [],
   "source": [
    "arch=resnet34\n",
    "data = ImageClassifierData.from_paths(RESCLASS, bs=bs, tfms=tfms_from_model(arch, sz))"
   ]
  },
  {
   "cell_type": "code",
   "execution_count": null,
   "metadata": {},
   "outputs": [],
   "source": [
    "wd=1e-7"
   ]
  },
  {
   "cell_type": "code",
   "execution_count": null,
   "metadata": {},
   "outputs": [],
   "source": [
    "learn = ConvLearner.pretrained(create_model, data, pretrained=False)"
   ]
  },
  {
   "cell_type": "code",
   "execution_count": null,
   "metadata": {},
   "outputs": [],
   "source": [
    "#learn.lr_find()"
   ]
  },
  {
   "cell_type": "code",
   "execution_count": null,
   "metadata": {},
   "outputs": [],
   "source": [
    "#learn.sched.plot()"
   ]
  },
  {
   "cell_type": "code",
   "execution_count": null,
   "metadata": {},
   "outputs": [],
   "source": [
    "learn.fit(lrs, 1, cycle_len=1, wds=wd, use_clr_beta=(10,10,0.95,0.85))"
   ]
  },
  {
   "cell_type": "code",
   "execution_count": null,
   "metadata": {},
   "outputs": [],
   "source": [
    "learn.fit(lrs, 1, cycle_len=1, wds=wd, use_clr_beta=(10,10,0.95,0.85))"
   ]
  },
  {
   "cell_type": "code",
   "execution_count": null,
   "metadata": {},
   "outputs": [],
   "source": [
    "#learn.save('superres_crit_pretrain')"
   ]
  },
  {
   "cell_type": "code",
   "execution_count": null,
   "metadata": {},
   "outputs": [],
   "source": [
    "save_model(learn.model, str(dpath))"
   ]
  },
  {
   "cell_type": "code",
   "execution_count": null,
   "metadata": {},
   "outputs": [],
   "source": []
  }
 ],
 "metadata": {
  "kernelspec": {
   "display_name": "Python 3",
   "language": "python",
   "name": "python3"
  },
  "language_info": {
   "codemirror_mode": {
    "name": "ipython",
    "version": 3
   },
   "file_extension": ".py",
   "mimetype": "text/x-python",
   "name": "python",
   "nbconvert_exporter": "python",
   "pygments_lexer": "ipython3",
   "version": "3.6.5"
  },
  "toc": {
   "colors": {
    "hover_highlight": "#DAA520",
    "navigate_num": "#000000",
    "navigate_text": "#333333",
    "running_highlight": "#FF0000",
    "selected_highlight": "#FFD700",
    "sidebar_border": "#EEEEEE",
    "wrapper_background": "#FFFFFF"
   },
   "moveMenuLeft": true,
   "nav_menu": {
    "height": "67px",
    "width": "252px"
   },
   "navigate_menu": true,
   "number_sections": true,
   "sideBar": true,
   "threshold": 4,
   "toc_cell": false,
   "toc_section_display": "block",
   "toc_window_display": false,
   "widenNotebook": false
  }
 },
 "nbformat": 4,
 "nbformat_minor": 2
}
